{
  "nbformat": 4,
  "nbformat_minor": 0,
  "metadata": {
    "colab": {
      "name": "VehicleInsurance:Harris-assignment.ipynb",
      "provenance": []
    },
    "kernelspec": {
      "name": "python3",
      "display_name": "Python 3"
    }
  },
  "cells": [
    {
      "cell_type": "markdown",
      "metadata": {
        "id": "dRqiNO2D7lei",
        "colab_type": "text"
      },
      "source": [
        "# Dataset Summary Report \n",
        "Date: 2020/04/16"
      ]
    },
    {
      "cell_type": "markdown",
      "metadata": {
        "id": "fkueHfhk7vh8",
        "colab_type": "text"
      },
      "source": [
        "Two excel sheets were provided: \n",
        "\n",
        "1.   `TripValues`\n",
        "2.   `User Groups`\n",
        "\n",
        "\n",
        "\n",
        "\n"
      ]
    },
    {
      "cell_type": "markdown",
      "metadata": {
        "id": "9roaeLO78Noc",
        "colab_type": "text"
      },
      "source": [
        "#Deliverable 1a: \n",
        "\n",
        "## Summarize & give your interpretation of each data field for `TripValues` sheet. \n",
        "\n",
        "The fields in the `TripValues` sheet are:\n",
        "\n",
        "1.   `ID`: indicates the record number\n",
        "2.   `UserID`: indicates the unique identifier for the client \n",
        "3.   `DistanceTravelled`: indicates the amount of kilometres travelled per trip by client\n",
        "4.   `OverallScore`: indicates the personalized metric the company has computed for the performance of that particular trip of the client\n",
        "5.   `RegisteredOn`: indicates the date when the trip was taken place\n",
        "\n",
        "Summary |`ID` | `UserID` | `DistanceTravelled` | `OverallScore` | `RegisteredOn`\n",
        ":---:|:---:|:---:|:---:|:---: |:---:\n",
        "DataType | int64 | int64 | float64 | float64 |datetime64 \n",
        "PrimaryKey | No | Yes | No | No | Yes \n",
        "MinValue | 1 | 1 | 1 | .01 | NotApplicable*\n",
        "MaxValue | 81911 | 14987 | 324 | 1 | NotApplicable**\n",
        "UniqueValueCount | 81911 | 14925 | 324 | 100 | 294\n",
        "NullCount | 0 | 0 | 30 | 0 | 0 \n",
        "\n",
        "\n",
        "\n",
        "*earliest date: 2019/04/14\n",
        "\n",
        "**latest date: 2020/02/1 \n"
      ]
    },
    {
      "cell_type": "markdown",
      "metadata": {
        "id": "Kf46DIWufWWW",
        "colab_type": "text"
      },
      "source": [
        "#Deliverable 1b: \n",
        "## Based on 1a, do you have any other observations and recommendations?\n",
        "\n",
        "* There are 14925 unique users who have made 81911 trips in the span of about one year (from April 2019 to February 2020). \n",
        "1.   Out of 81911 trips there were 30 trips whose `DistanceTravelled` data couldn't be collected. (0.03% of total data). \n",
        "2.   These 30 trips belong to 10 unique users. However, these 10 users do have data collected in other instances therefore, that may mean that it is very likely the times when there wasn't any data collected by the data source may just have been a fluke. In other words, the data collection infrastructure is pretty solid for the last year, if it were to be improved, it wouldn't be worth the investment. \n",
        "* An average of 891Km was the distance travelled per user/client.\n",
        "1.   The most popular day for driving was January 26, 2020 with 324 trips whereas the least popular day for driving was December 15, 2019 with 236 trips. Here are the top ten most popular days for driving and their `DistanceTravelled` counts with the bottom ten least popular days for driving and their `DistanceTravelled` counts:\n",
        "\n",
        "![picture](https://drive.google.com/uc?id=1rCYVO4tVwWeTyHUz6I1Ad7Uj-HFFlcib)\n",
        "\n",
        "![picture](https://drive.google.com/uc?id=1w2Ll4HSO-Cg6G_WGeAvCMkBMTzFpz728)\n"
      ]
    },
    {
      "cell_type": "markdown",
      "metadata": {
        "id": "UQTNIuWIJSKF",
        "colab_type": "text"
      },
      "source": [
        "#Deliverable 1c\n",
        "\n",
        "##Is there anything in the data that might help you to understand how the data was captured?\n",
        "\n",
        "* It seems that the data in the `TripValues` sheet was recorded by a sensor/app on the vehicle of the client at the end of the trip. Since there is a `RegisteredOn` date field and a `DistanceTravelled` field, the only way it is possible to record those pieces of data is once the vehicle comes to a full stop after a particular trip.  "
      ]
    },
    {
      "cell_type": "markdown",
      "metadata": {
        "id": "6j23X4KM9Uds",
        "colab_type": "text"
      },
      "source": [
        "#Deliverable 2\n",
        "## What are the set relationships for the fields in the `User Groups` sheet?\n",
        "\n",
        "* The `User Groups` sheet contained four fields: `UserID_System1`,\n",
        "`UserID_System2`,`UserID_System3`, and `UserID_System4` which represent the different sources that collect data for the same insured client.\n",
        "\n",
        "* Upon inspection, `UserID_System2` is the complete one containing all unique user values of all the clients available, thus the other UserID_Systems (1,3,and 4) should be considered as extra available data sources for the clients in `UserID_System2`.\n",
        "\n",
        "* The way the sheet is currently, corresponds to an appropriate mapping of the UserIDs across each system.\n",
        "\n",
        "* It seems that each data source was implemented over time: meaning it first started with system2, then system1 was added, aftewards system3 was added, and finally system4 was tacked on.\n",
        "\n",
        "* There are a total **15000** unique user IDs in `UserID_System2`:\n",
        "\n",
        "1.   `UserID_System1` contains **99.5%** of the total user IDs in `UserID_System2`\n",
        "2.   `UserID_System3` contains **96.2%** of the total user IDs in `UserID_System2`\n",
        "3.   `UserID_System4` contains **17.8%** of the total user IDs in `User_IDSystem2`\n",
        "\n",
        "* `UserID_System4` seems to be a new data source the company recently implemented to collect data on the clients since it contains the least amount of user IDs.\n",
        "\n",
        "* Another way of thinking about this is:\n",
        "\n",
        "1.  **17.8% of the clients of the company(or in this dataset) have data available from all 4 sources**\n",
        "\n",
        "2.  **96.2% of the clients of the company(or in this dataset) have data available from 3 sources(System 1,2,3)**\n",
        "\n",
        "3.  **99.5% of the clients of the company(or in this dataset) have data available from 2 sources(System 1, 2)**\n",
        "\n",
        "\n"
      ]
    },
    {
      "cell_type": "markdown",
      "metadata": {
        "id": "K__6-9I5Rn3o",
        "colab_type": "text"
      },
      "source": [
        "# Deliverable 3\n",
        "\n",
        "##Do longer trips have lower score?\n",
        "\n",
        "* Since the average `OverallScore` of the entire dataset is about 0.51 and the 75th percentile of the `OverallScore` is .75, I defined \"low score\" to be < 0.5 and \"high score\" to be > 0.8. The 75th percentile of `DistanceTravelled` is 244km, therefore I defined \"long distance\" to be > 244km. The subset of this data yielded the following:\n",
        "\n",
        "1. 25%(9807/40028) of low scores come from long distance trips\n",
        "2. 25%(4116/16333) of high scores come from long distance trips as well\n",
        "\n",
        "* Conclusion: longer trips have no influence on low scores\n",
        "\n",
        "* Below is a graph of the average `DistanceTravelled` vs average `OverallScore` of the whole data set. We can see the scores are pretty even across all distances travelled:\n",
        "\n",
        "![picture](https://drive.google.com/uc?id=1sl56KgkMGtG-m9VC0HWFtNJklVAhAqya)\n",
        "##Do drivers with longer trips have lower scores?\n",
        "\n",
        "Looking at the scores of the unique drivers in the subsection of `DistanceTravelled` > 244 km:\n",
        "\n",
        "1. 22% (2414/11095) of long trip drivers have both low scores and high scores\n",
        "2. 43% (4738/11095) of long trip drivers have low scores and no high scores\n",
        "3. 3% (401/11095) of long trip drivers have high scores and no low scores\n",
        "4. combinations with medium scores between 0.5 and 0.8 for long trip drivers were ignored.\n",
        "\n",
        "* Conclusion: Yes. Drivers with longer trips tend to have lower scores.\n",
        "\n",
        "Below are two graphs, one is the amount of long distance trips with \"high score\" and the amount long distance trips with \"low score\": \n",
        "![picture](https://drive.google.com/uc?id=1rKscwMQPKBmxWuUq3sLYoR0BWGu4610X)\n",
        "![picture](https://drive.google.com/uc?id=1SdiR5jW_EIXjE2jk88xmi98LYe05739f)\n",
        "\n",
        "## Is the quality of drivers improving over time?\n",
        "\n",
        "Given the graph below of the average `OverallScore` over time, it looks like the quality of drivers has stayed steady and didn't change much. \n",
        "\n",
        "![picture](https://drive.google.com/uc?id=1Bde5xEIsUQFSB7n7Aq-g7sTVU3vCBmcG)\n",
        "\n",
        "## Are there insights on trip duration for our user base?\n",
        "\n",
        "There are 81911 total trips, however all of those trips fall into 324 distances. The users in this data set tend to drive long distances because there were 216 trips at 232 km(the smallest count) and 292 trips at 292 km (the largest count).\n",
        "\n",
        "Here's a graph of daily average trip duration:\n",
        "![picture](https://drive.google.com/uc?id=1eazaODuJaCCD1Ds7_A2RX8yWuNKvDL5_)"
      ]
    },
    {
      "cell_type": "markdown",
      "metadata": {
        "id": "xcWr-HjsfPFJ",
        "colab_type": "text"
      },
      "source": [
        "#Code used to answer Deliverable 1"
      ]
    },
    {
      "cell_type": "code",
      "metadata": {
        "id": "wA2EEwV9xLwR",
        "colab_type": "code",
        "outputId": "0c981b29-b52e-4d65-9479-167d9aef5264",
        "colab": {
          "base_uri": "https://localhost:8080/",
          "height": 35
        }
      },
      "source": [
        "from google.colab import drive\n",
        "drive.mount('/content/drive')"
      ],
      "execution_count": 0,
      "outputs": [
        {
          "output_type": "stream",
          "text": [
            "Drive already mounted at /content/drive; to attempt to forcibly remount, call drive.mount(\"/content/drive\", force_remount=True).\n"
          ],
          "name": "stdout"
        }
      ]
    },
    {
      "cell_type": "code",
      "metadata": {
        "id": "8GVHg10W23eG",
        "colab_type": "code",
        "colab": {}
      },
      "source": [
        "#importing libraries that will be used\n",
        "import pandas as pd\n",
        "#import pandas_profiling as pp (learn why it didn't work) \n",
        "import matplotlib.pyplot as plt"
      ],
      "execution_count": 0,
      "outputs": []
    },
    {
      "cell_type": "code",
      "metadata": {
        "id": "I7FvG9rhyZaQ",
        "colab_type": "code",
        "colab": {}
      },
      "source": [
        "#reading in the two excel sheets of data\n",
        "df1=pd.read_excel(\"/content/drive/My Drive/Colab Notebooks/Onlia_Assignment/Analyst Technical Test v1.0.xlsx\", sheet_name=\"TripValues\")\n",
        "df2=pd.read_excel(\"/content/drive/My Drive/Colab Notebooks/Onlia_Assignment/Analyst Technical Test v1.0.xlsx\", sheet_name=\"User Groups\")"
      ],
      "execution_count": 0,
      "outputs": []
    },
    {
      "cell_type": "code",
      "metadata": {
        "id": "PZN4IxzZ3DQP",
        "colab_type": "code",
        "colab": {}
      },
      "source": [
        "#reading in the two excel sheets of data\n",
        "df1=pd.read_excel(\"Analyst Technical Test v1.0.xlsx\",sheet_name=\"TripValues\")\n",
        "df2=pd.read_excel(\"Analyst Technical Test v1.0.xlsx\",sheet_name=\"User Groups\")"
      ],
      "execution_count": 0,
      "outputs": []
    },
    {
      "cell_type": "code",
      "metadata": {
        "id": "og7o088M5Ffc",
        "colab_type": "code",
        "outputId": "39719d45-2f94-4f3d-b3db-5c7ad4be5dee",
        "colab": {
          "base_uri": "https://localhost:8080/",
          "height": 121
        }
      },
      "source": [
        "#check data types\n",
        "df1.dtypes"
      ],
      "execution_count": 0,
      "outputs": [
        {
          "output_type": "execute_result",
          "data": {
            "text/plain": [
              "ID                            int64\n",
              "UserID                        int64\n",
              "DistanceTravelled           float64\n",
              "OverallScore                float64\n",
              "RegisteredOn         datetime64[ns]\n",
              "dtype: object"
            ]
          },
          "metadata": {
            "tags": []
          },
          "execution_count": 9
        }
      ]
    },
    {
      "cell_type": "code",
      "metadata": {
        "id": "MgBrixZS5H9Q",
        "colab_type": "code",
        "outputId": "d9475a33-d1ca-447f-9338-cbfbbe4843dc",
        "colab": {
          "base_uri": "https://localhost:8080/",
          "height": 294
        }
      },
      "source": [
        "#get some of the information needed\n",
        "df1.describe()"
      ],
      "execution_count": 0,
      "outputs": [
        {
          "output_type": "execute_result",
          "data": {
            "text/html": [
              "<div>\n",
              "<style scoped>\n",
              "    .dataframe tbody tr th:only-of-type {\n",
              "        vertical-align: middle;\n",
              "    }\n",
              "\n",
              "    .dataframe tbody tr th {\n",
              "        vertical-align: top;\n",
              "    }\n",
              "\n",
              "    .dataframe thead th {\n",
              "        text-align: right;\n",
              "    }\n",
              "</style>\n",
              "<table border=\"1\" class=\"dataframe\">\n",
              "  <thead>\n",
              "    <tr style=\"text-align: right;\">\n",
              "      <th></th>\n",
              "      <th>ID</th>\n",
              "      <th>UserID</th>\n",
              "      <th>DistanceTravelled</th>\n",
              "      <th>OverallScore</th>\n",
              "    </tr>\n",
              "  </thead>\n",
              "  <tbody>\n",
              "    <tr>\n",
              "      <th>count</th>\n",
              "      <td>81911.000000</td>\n",
              "      <td>81911.000000</td>\n",
              "      <td>81881.000000</td>\n",
              "      <td>81911.000000</td>\n",
              "    </tr>\n",
              "    <tr>\n",
              "      <th>mean</th>\n",
              "      <td>40956.000000</td>\n",
              "      <td>7512.695694</td>\n",
              "      <td>162.406150</td>\n",
              "      <td>0.505622</td>\n",
              "    </tr>\n",
              "    <tr>\n",
              "      <th>std</th>\n",
              "      <td>23645.813287</td>\n",
              "      <td>4326.868534</td>\n",
              "      <td>93.600229</td>\n",
              "      <td>0.288073</td>\n",
              "    </tr>\n",
              "    <tr>\n",
              "      <th>min</th>\n",
              "      <td>1.000000</td>\n",
              "      <td>1.000000</td>\n",
              "      <td>1.000000</td>\n",
              "      <td>0.010000</td>\n",
              "    </tr>\n",
              "    <tr>\n",
              "      <th>25%</th>\n",
              "      <td>20478.500000</td>\n",
              "      <td>3748.000000</td>\n",
              "      <td>81.000000</td>\n",
              "      <td>0.260000</td>\n",
              "    </tr>\n",
              "    <tr>\n",
              "      <th>50%</th>\n",
              "      <td>40956.000000</td>\n",
              "      <td>7554.000000</td>\n",
              "      <td>162.000000</td>\n",
              "      <td>0.510000</td>\n",
              "    </tr>\n",
              "    <tr>\n",
              "      <th>75%</th>\n",
              "      <td>61433.500000</td>\n",
              "      <td>11260.000000</td>\n",
              "      <td>244.000000</td>\n",
              "      <td>0.750000</td>\n",
              "    </tr>\n",
              "    <tr>\n",
              "      <th>max</th>\n",
              "      <td>81911.000000</td>\n",
              "      <td>14987.000000</td>\n",
              "      <td>324.000000</td>\n",
              "      <td>1.000000</td>\n",
              "    </tr>\n",
              "  </tbody>\n",
              "</table>\n",
              "</div>"
            ],
            "text/plain": [
              "                 ID        UserID  DistanceTravelled  OverallScore\n",
              "count  81911.000000  81911.000000       81881.000000  81911.000000\n",
              "mean   40956.000000   7512.695694         162.406150      0.505622\n",
              "std    23645.813287   4326.868534          93.600229      0.288073\n",
              "min        1.000000      1.000000           1.000000      0.010000\n",
              "25%    20478.500000   3748.000000          81.000000      0.260000\n",
              "50%    40956.000000   7554.000000         162.000000      0.510000\n",
              "75%    61433.500000  11260.000000         244.000000      0.750000\n",
              "max    81911.000000  14987.000000         324.000000      1.000000"
            ]
          },
          "metadata": {
            "tags": []
          },
          "execution_count": 10
        }
      ]
    },
    {
      "cell_type": "code",
      "metadata": {
        "id": "ORdv9bZB5JTq",
        "colab_type": "code",
        "outputId": "deae3f14-abb5-413b-d405-ff570a7b7d1d",
        "colab": {
          "base_uri": "https://localhost:8080/",
          "height": 121
        }
      },
      "source": [
        "#checking for null values\n",
        "df1.isnull().sum()"
      ],
      "execution_count": 0,
      "outputs": [
        {
          "output_type": "execute_result",
          "data": {
            "text/plain": [
              "ID                    0\n",
              "UserID                0\n",
              "DistanceTravelled    30\n",
              "OverallScore          0\n",
              "RegisteredOn          0\n",
              "dtype: int64"
            ]
          },
          "metadata": {
            "tags": []
          },
          "execution_count": 11
        }
      ]
    },
    {
      "cell_type": "code",
      "metadata": {
        "id": "SiTQ4OUrc6H0",
        "colab_type": "code",
        "outputId": "21228ef4-ce0c-4f14-fc31-f02e366222e7",
        "colab": {
          "base_uri": "https://localhost:8080/",
          "height": 35
        }
      },
      "source": [
        "#size of dataframe\n",
        "df1.shape"
      ],
      "execution_count": 0,
      "outputs": [
        {
          "output_type": "execute_result",
          "data": {
            "text/plain": [
              "(81911, 5)"
            ]
          },
          "metadata": {
            "tags": []
          },
          "execution_count": 12
        }
      ]
    },
    {
      "cell_type": "code",
      "metadata": {
        "id": "FwoN5yjWZ-wJ",
        "colab_type": "code",
        "outputId": "0affbef6-4507-4e4d-f408-ed6ce3f493f1",
        "colab": {
          "base_uri": "https://localhost:8080/",
          "height": 35
        }
      },
      "source": [
        "#checking for unique values for ID\n",
        "df1.ID.nunique()"
      ],
      "execution_count": 0,
      "outputs": [
        {
          "output_type": "execute_result",
          "data": {
            "text/plain": [
              "81911"
            ]
          },
          "metadata": {
            "tags": []
          },
          "execution_count": 13
        }
      ]
    },
    {
      "cell_type": "code",
      "metadata": {
        "id": "AbXw290yaHQ_",
        "colab_type": "code",
        "outputId": "397a336f-b80a-4af8-be78-90081364f8a6",
        "colab": {
          "base_uri": "https://localhost:8080/",
          "height": 35
        }
      },
      "source": [
        "#checking for unique values for USERID\n",
        "df1.UserID.nunique()"
      ],
      "execution_count": 0,
      "outputs": [
        {
          "output_type": "execute_result",
          "data": {
            "text/plain": [
              "14925"
            ]
          },
          "metadata": {
            "tags": []
          },
          "execution_count": 14
        }
      ]
    },
    {
      "cell_type": "code",
      "metadata": {
        "id": "NRuXuQ-iapHS",
        "colab_type": "code",
        "outputId": "d0ffda43-0dc5-4a78-df9b-c78b825608c0",
        "colab": {
          "base_uri": "https://localhost:8080/",
          "height": 35
        }
      },
      "source": [
        "#checking for unique values for DistanceTravelled\n",
        "df1.DistanceTravelled.nunique()"
      ],
      "execution_count": 0,
      "outputs": [
        {
          "output_type": "execute_result",
          "data": {
            "text/plain": [
              "324"
            ]
          },
          "metadata": {
            "tags": []
          },
          "execution_count": 15
        }
      ]
    },
    {
      "cell_type": "code",
      "metadata": {
        "id": "hjFriUjbbVUp",
        "colab_type": "code",
        "outputId": "0e395128-6c03-4dd3-a45b-c94533253630",
        "colab": {
          "base_uri": "https://localhost:8080/",
          "height": 35
        }
      },
      "source": [
        "#checking for unique values for OverallScore\n",
        "df1.OverallScore.nunique()"
      ],
      "execution_count": 0,
      "outputs": [
        {
          "output_type": "execute_result",
          "data": {
            "text/plain": [
              "100"
            ]
          },
          "metadata": {
            "tags": []
          },
          "execution_count": 16
        }
      ]
    },
    {
      "cell_type": "code",
      "metadata": {
        "id": "gX7bCaf6boL7",
        "colab_type": "code",
        "outputId": "e5cf6c4f-a43b-4ae3-e0c6-1117e5cf8007",
        "colab": {
          "base_uri": "https://localhost:8080/",
          "height": 35
        }
      },
      "source": [
        "#checking for unique values for RegisteredOn\n",
        "df1.RegisteredOn.nunique()"
      ],
      "execution_count": 0,
      "outputs": [
        {
          "output_type": "execute_result",
          "data": {
            "text/plain": [
              "294"
            ]
          },
          "metadata": {
            "tags": []
          },
          "execution_count": 17
        }
      ]
    },
    {
      "cell_type": "code",
      "metadata": {
        "id": "laQUDHI5mpUq",
        "colab_type": "code",
        "outputId": "aa562263-1c88-4af2-ae60-21a0459491f5",
        "colab": {
          "base_uri": "https://localhost:8080/",
          "height": 35
        }
      },
      "source": [
        "df1.columns"
      ],
      "execution_count": 0,
      "outputs": [
        {
          "output_type": "execute_result",
          "data": {
            "text/plain": [
              "Index(['ID', 'UserID', 'DistanceTravelled', 'OverallScore', 'RegisteredOn'], dtype='object')"
            ]
          },
          "metadata": {
            "tags": []
          },
          "execution_count": 18
        }
      ]
    },
    {
      "cell_type": "code",
      "metadata": {
        "id": "bV_bcMGZpvfY",
        "colab_type": "code",
        "outputId": "c92f73ff-83dd-4114-d0fb-5cc46f973868",
        "colab": {
          "base_uri": "https://localhost:8080/",
          "height": 283
        }
      },
      "source": [
        "df1.UserID.value_counts().hist()"
      ],
      "execution_count": 0,
      "outputs": [
        {
          "output_type": "execute_result",
          "data": {
            "text/plain": [
              "<matplotlib.axes._subplots.AxesSubplot at 0x7fa7f57609b0>"
            ]
          },
          "metadata": {
            "tags": []
          },
          "execution_count": 19
        },
        {
          "output_type": "display_data",
          "data": {
            "image/png": "[encoded data removed]",
            "text/plain": [
              "<Figure size 432x288 with 1 Axes>"
            ]
          },
          "metadata": {
            "tags": [],
            "needs_background": "light"
          }
        }
      ]
    },
    {
      "cell_type": "code",
      "metadata": {
        "id": "pqzCVYLKqTZl",
        "colab_type": "code",
        "colab": {}
      },
      "source": [
        "# plot data (understand what happened here eventually)\n",
        "#fig, ax = plt.subplots(figsize=(15,7))\n",
        "# use unstack()\n",
        "#df1.groupby(['DistanceTravelled','OverallScore']).mean()['UserID'].unstack().plot(ax=ax)"
      ],
      "execution_count": 0,
      "outputs": []
    },
    {
      "cell_type": "code",
      "metadata": {
        "id": "BqBOPlf0h6DY",
        "colab_type": "code",
        "colab": {}
      },
      "source": [
        "#fig, ax = plt.subplots(figsize=(15,7))\n",
        "#df1.groupby(['UserID'])['DistanceTravelled','OverallScore'].mean().unstack().plot()\n"
      ],
      "execution_count": 0,
      "outputs": []
    },
    {
      "cell_type": "code",
      "metadata": {
        "id": "zrpsNUMCo927",
        "colab_type": "code",
        "outputId": "4f46ee83-1910-47ba-b80f-51199fd1eed3",
        "colab": {
          "base_uri": "https://localhost:8080/",
          "height": 287
        }
      },
      "source": [
        "df1.groupby(['UserID'])['DistanceTravelled'].mean().plot.barh()"
      ],
      "execution_count": 0,
      "outputs": [
        {
          "output_type": "execute_result",
          "data": {
            "text/plain": [
              "<matplotlib.axes._subplots.AxesSubplot at 0x7fa7f5a12048>"
            ]
          },
          "metadata": {
            "tags": []
          },
          "execution_count": 21
        },
        {
          "output_type": "display_data",
          "data": {
            "image/png": "[encoded data removed]",
            "text/plain": [
              "<Figure size 432x288 with 1 Axes>"
            ]
          },
          "metadata": {
            "tags": [],
            "needs_background": "light"
          }
        }
      ]
    },
    {
      "cell_type": "code",
      "metadata": {
        "id": "lStwWH3tASZC",
        "colab_type": "code",
        "colab": {}
      },
      "source": [
        "df1_sorted_by_date=df1\n",
        "df1_sorted_by_date['RegisteredOn']=pd.to_datetime(df1['RegisteredOn'])\n",
        "df1_sorted_by_date=df1_sorted_by_date.sort_values(by=\"RegisteredOn\")"
      ],
      "execution_count": 0,
      "outputs": []
    },
    {
      "cell_type": "code",
      "metadata": {
        "id": "vE3kRj34GRjv",
        "colab_type": "code",
        "colab": {}
      },
      "source": [
        "#create three new columns with low_score, med_score, high_score\n",
        "df1_sorted_by_date['low_score'] = df1_sorted_by_date['OverallScore'].apply(lambda x: x < 0.5)\n",
        "df1_sorted_by_date['med_score'] = df1_sorted_by_date['OverallScore'].apply(lambda x: 0.5< x < 0.8)\n",
        "df1_sorted_by_date['high_score'] = df1_sorted_by_date['OverallScore'].apply(lambda x: x > 0.8)"
      ],
      "execution_count": 0,
      "outputs": []
    },
    {
      "cell_type": "code",
      "metadata": {
        "id": "Dn-q88xcKDYL",
        "colab_type": "code",
        "colab": {}
      },
      "source": [
        "df_low_score=df1_sorted_by_date[df1_sorted_by_date['low_score'] == True]\n",
        "df_med_score=df1_sorted_by_date[df1_sorted_by_date['med_score'] == True]\n",
        "df_high_score=df1_sorted_by_date[df1_sorted_by_date['high_score'] == True]"
      ],
      "execution_count": 0,
      "outputs": []
    },
    {
      "cell_type": "code",
      "metadata": {
        "id": "uI1IP5JK5ztQ",
        "colab_type": "code",
        "colab": {}
      },
      "source": [
        "df1.head()"
      ],
      "execution_count": 0,
      "outputs": []
    },
    {
      "cell_type": "code",
      "metadata": {
        "id": "Vu03Gsl-7BE4",
        "colab_type": "code",
        "colab": {}
      },
      "source": [
        "df1.tail()"
      ],
      "execution_count": 0,
      "outputs": []
    },
    {
      "cell_type": "code",
      "metadata": {
        "id": "hVgjdGbH7TTp",
        "colab_type": "code",
        "colab": {}
      },
      "source": [
        "df1.UserID.nunique()"
      ],
      "execution_count": 0,
      "outputs": []
    },
    {
      "cell_type": "code",
      "metadata": {
        "id": "4dBf460X6Y1e",
        "colab_type": "code",
        "colab": {}
      },
      "source": [
        "df1_sorted_by_ID=df1\n",
        "df1_sorted_by_ID=df1_sorted_by_ID.sort_values(by='ID')\n",
        "df1_sorted_by_ID"
      ],
      "execution_count": 0,
      "outputs": []
    },
    {
      "cell_type": "code",
      "metadata": {
        "id": "j-bHRaos_9KT",
        "colab_type": "code",
        "colab": {}
      },
      "source": [
        "#seeing if there's any pattern with the NaN values in Distance Travelled\n",
        "is_NaN = df1_sorted_by_date.isnull()\n",
        "row_has_NaN = is_NaN.any(axis=1)\n",
        "rows_with_NaN = df1_sorted_by_date[row_has_NaN]\n",
        "print(rows_with_NaN)"
      ],
      "execution_count": 0,
      "outputs": []
    },
    {
      "cell_type": "code",
      "metadata": {
        "id": "mRP11bSDAsAo",
        "colab_type": "code",
        "colab": {}
      },
      "source": [
        "rows_with_NaN.UserID.nunique()"
      ],
      "execution_count": 0,
      "outputs": []
    },
    {
      "cell_type": "code",
      "metadata": {
        "id": "oDaKRmZzuqp5",
        "colab_type": "code",
        "colab": {}
      },
      "source": [
        "pd.Series(rows_with_NaN.UserID.isin(df1.UserID).values.astype(int), rows_with_NaN.UserID.values).sum()"
      ],
      "execution_count": 0,
      "outputs": []
    },
    {
      "cell_type": "markdown",
      "metadata": {
        "id": "brdyfmcQDp5g",
        "colab_type": "text"
      },
      "source": [
        "#Code used to answer Deliverable 2"
      ]
    },
    {
      "cell_type": "code",
      "metadata": {
        "id": "E7RAuWKI7C96",
        "colab_type": "code",
        "colab": {}
      },
      "source": [
        "df2.head()"
      ],
      "execution_count": 0,
      "outputs": []
    },
    {
      "cell_type": "code",
      "metadata": {
        "id": "Y3dJg1Jl7EXn",
        "colab_type": "code",
        "colab": {}
      },
      "source": [
        "df2.tail()"
      ],
      "execution_count": 0,
      "outputs": []
    },
    {
      "cell_type": "code",
      "metadata": {
        "id": "bxbW94zL7MTq",
        "colab_type": "code",
        "colab": {}
      },
      "source": [
        "df2.shape"
      ],
      "execution_count": 0,
      "outputs": []
    },
    {
      "cell_type": "code",
      "metadata": {
        "id": "N0ryioMj6pJ7",
        "colab_type": "code",
        "colab": {}
      },
      "source": [
        "#listing the fields of 'User Groups' sheet\n",
        "df2.columns"
      ],
      "execution_count": 0,
      "outputs": []
    },
    {
      "cell_type": "code",
      "metadata": {
        "id": "p6nU2sDcAM5t",
        "colab_type": "code",
        "colab": {}
      },
      "source": [
        "#checking size of dataframe\n",
        "df2.shape"
      ],
      "execution_count": 0,
      "outputs": []
    },
    {
      "cell_type": "code",
      "metadata": {
        "id": "0TyfW9WVCKx6",
        "colab_type": "code",
        "colab": {}
      },
      "source": [
        "df2.head()"
      ],
      "execution_count": 0,
      "outputs": []
    },
    {
      "cell_type": "code",
      "metadata": {
        "id": "g4TOMgbzCN3h",
        "colab_type": "code",
        "colab": {}
      },
      "source": [
        "df2.tail()"
      ],
      "execution_count": 0,
      "outputs": []
    },
    {
      "cell_type": "code",
      "metadata": {
        "id": "QbhGKPNNAOd1",
        "colab_type": "code",
        "colab": {}
      },
      "source": [
        "#since the size of the dataframe is 15000 and the number of unique users in system 2 is also 15000 \n",
        "#that means UserID_System2 is the source containing the complete list of clients \n",
        "print(df2.UserID_System1.nunique())\n",
        "print(df2.UserID_System2.nunique())\n",
        "print(df2.UserID_System3.nunique())\n",
        "print(df2.UserID_System4.nunique())"
      ],
      "execution_count": 0,
      "outputs": []
    },
    {
      "cell_type": "code",
      "metadata": {
        "id": "m9dN8rH7AZ82",
        "colab_type": "code",
        "colab": {}
      },
      "source": [
        "#checking for null values\n",
        "df2.isnull().sum()"
      ],
      "execution_count": 0,
      "outputs": []
    },
    {
      "cell_type": "code",
      "metadata": {
        "id": "Mq9WtHy4BB7b",
        "colab_type": "code",
        "colab": {}
      },
      "source": [
        "#adding the unique userIDs (from system1,3,and 4) plus the number of total nulls in each system yields 15000\n",
        "#therefore this means that we can base UserID_Systems 1,3, and 4 on UserID_System2 \n",
        "print(df2.UserID_System1.nunique()+df2.UserID_System1.isnull().sum())\n",
        "print(df2.UserID_System3.nunique()+df2.UserID_System3.isnull().sum())\n",
        "print(df2.UserID_System4.nunique()+df2.UserID_System4.isnull().sum())"
      ],
      "execution_count": 0,
      "outputs": []
    },
    {
      "cell_type": "code",
      "metadata": {
        "id": "I95onZo6BVeu",
        "colab_type": "code",
        "colab": {}
      },
      "source": [
        "#checking to see which users have all four sources of data\n",
        "df2[df2['UserID_System1'].notnull() & df2['UserID_System2'].notnull() & df2['UserID_System3'].notnull() & df2['UserID_System4'].notnull()].shape[0]"
      ],
      "execution_count": 0,
      "outputs": []
    },
    {
      "cell_type": "code",
      "metadata": {
        "id": "oR8IzXU7F1Jk",
        "colab_type": "code",
        "colab": {}
      },
      "source": [
        "#checking to see which users have 3 sources of data\n",
        "df2[df2['UserID_System1'].notnull() & df2['UserID_System2'].notnull() & df2['UserID_System3'].notnull()].shape[0]"
      ],
      "execution_count": 0,
      "outputs": []
    },
    {
      "cell_type": "code",
      "metadata": {
        "id": "TNP7UtQFIPw5",
        "colab_type": "code",
        "colab": {}
      },
      "source": [
        "#checking to see which users have 2 sources of data(1 & 2)\n",
        "df2[df2['UserID_System1'].notnull() & df2['UserID_System2'].notnull()].shape[0]"
      ],
      "execution_count": 0,
      "outputs": []
    },
    {
      "cell_type": "code",
      "metadata": {
        "id": "3nCnxKK5If_G",
        "colab_type": "code",
        "colab": {}
      },
      "source": [
        "#checking to see which users have 2 sources of data(1 & 3). \n",
        "#This equals to 3 sources, thus confirming that each system had been added on over time and the UserIDs in the sheet correspond\n",
        "#to the correct mapping \n",
        "df2[df2['UserID_System1'].notnull() & df2['UserID_System3'].notnull()].shape[0]"
      ],
      "execution_count": 0,
      "outputs": []
    },
    {
      "cell_type": "markdown",
      "metadata": {
        "id": "uDWbTmwG09q_",
        "colab_type": "text"
      },
      "source": [
        "#Code for used to answer Deliverable 3"
      ]
    },
    {
      "cell_type": "code",
      "metadata": {
        "id": "AGe3t-WR1AXZ",
        "colab_type": "code",
        "colab": {}
      },
      "source": [
        "# plotting overall score average vs distance travelled average\n",
        "fig, ax = plt.subplots(figsize=(25,17))\n",
        "df1.groupby(['DistanceTravelled']).mean()['OverallScore'].plot(ax=ax)\n",
        "plt.ylabel('OverallScore Average', fontsize=30)\n",
        "plt.xlabel('DistanceTravelled Average', fontsize=30)\n",
        "plt.title('OverallScore Avg vs DistanceTravelled Avg', fontsize=30)\n",
        "plt.show()"
      ],
      "execution_count": 0,
      "outputs": []
    },
    {
      "cell_type": "code",
      "metadata": {
        "id": "P7kUhJFC5CL_",
        "colab_type": "code",
        "colab": {}
      },
      "source": [
        "#plotting average OverallScore vs Day\n",
        "df_s_=df1_sorted_by_date[['RegisteredOn','OverallScore']]\n",
        "df_s_.index = df_s_['RegisteredOn']\n",
        "del df_s_['RegisteredOn']\n",
        "df_s_.groupby(level=0).mean().plot(figsize=(25,17))\n",
        "plt.ylabel('Avg Overall Score', fontsize=30)\n",
        "plt.xlabel('RegisteredOn', fontsize=30)\n",
        "plt.title('Daily Avg OverallScore of All Users', fontsize=30)\n",
        "plt.show()"
      ],
      "execution_count": 0,
      "outputs": []
    },
    {
      "cell_type": "code",
      "metadata": {
        "id": "pMFKWejN5SHj",
        "colab_type": "code",
        "colab": {}
      },
      "source": [
        "#define lowscore to be < 0.5\n",
        "df1_sorted_by_date['low_score'] = df1_sorted_by_date['OverallScore'].apply(lambda x: x < 0.5)\n",
        "#see how many trips are low score\n",
        "df1_sorted_by_date[df1_sorted_by_date['low_score'] == True].shape"
      ],
      "execution_count": 0,
      "outputs": []
    },
    {
      "cell_type": "code",
      "metadata": {
        "id": "MSgXUqHrTu5u",
        "colab_type": "code",
        "colab": {}
      },
      "source": [
        "df1_sorted_by_date.head()"
      ],
      "execution_count": 0,
      "outputs": []
    },
    {
      "cell_type": "code",
      "metadata": {
        "id": "rkWss5lQ5t2L",
        "colab_type": "code",
        "colab": {}
      },
      "source": [
        "df_low_score=df1_sorted_by_date[df1_sorted_by_date['low_score'] == True]"
      ],
      "execution_count": 0,
      "outputs": []
    },
    {
      "cell_type": "code",
      "metadata": {
        "id": "Gz9Il4tXWrOf",
        "colab_type": "code",
        "colab": {}
      },
      "source": [
        "df_low_score.head()"
      ],
      "execution_count": 0,
      "outputs": []
    },
    {
      "cell_type": "code",
      "metadata": {
        "id": "advbO-As5ljL",
        "colab_type": "code",
        "colab": {}
      },
      "source": [
        "#checking if longer trips give low score\n",
        "long_dist_low_score=df_low_score[df_low_score['DistanceTravelled']>244]\n",
        "long_dist_low_score.shape"
      ],
      "execution_count": 0,
      "outputs": []
    },
    {
      "cell_type": "code",
      "metadata": {
        "id": "TOJhY4Pu5qRg",
        "colab_type": "code",
        "colab": {}
      },
      "source": [
        "#define high score to be >0.8 and see how many trips are high score\n",
        "df1_sorted_by_date['high_score'] = df1_sorted_by_date['OverallScore'].apply(lambda x: x > 0.8)\n",
        "df_high_score=df1_sorted_by_date[df1_sorted_by_date['high_score'] == True]\n",
        "df_high_score.shape\n"
      ],
      "execution_count": 0,
      "outputs": []
    },
    {
      "cell_type": "code",
      "metadata": {
        "id": "CE8BCA6a6DaO",
        "colab_type": "code",
        "colab": {}
      },
      "source": [
        "#checking if long distances give high score\n",
        "long_dist_high_score=df_high_score[df_high_score['DistanceTravelled']>244]\n",
        "long_dist_high_score.shape"
      ],
      "execution_count": 0,
      "outputs": []
    },
    {
      "cell_type": "code",
      "metadata": {
        "id": "TwO3NzUo6WBP",
        "colab_type": "code",
        "colab": {}
      },
      "source": [
        "df_long_distance.UserID.nunique()"
      ],
      "execution_count": 0,
      "outputs": []
    },
    {
      "cell_type": "code",
      "metadata": {
        "id": "QZlMoEJJTGn4",
        "colab_type": "code",
        "colab": {}
      },
      "source": [
        "long_dist_low_score=df_low_score[df_low_score['DistanceTravelled']>244]\n",
        "long_dist_low_score.shape"
      ],
      "execution_count": 0,
      "outputs": []
    },
    {
      "cell_type": "code",
      "metadata": {
        "id": "Ydt1ariCVjg5",
        "colab_type": "code",
        "colab": {}
      },
      "source": [
        "df_long_distance.head()"
      ],
      "execution_count": 0,
      "outputs": []
    },
    {
      "cell_type": "code",
      "metadata": {
        "id": "Dh0wWgVt6YsT",
        "colab_type": "code",
        "colab": {}
      },
      "source": [
        "df_long_distance[df_long_distance.low_score==True].UserID.nunique()"
      ],
      "execution_count": 0,
      "outputs": []
    },
    {
      "cell_type": "code",
      "metadata": {
        "id": "rcKz0jmx6c_Y",
        "colab_type": "code",
        "colab": {}
      },
      "source": [
        "df_long_distance[df_long_distance.high_score==True].UserID.nunique()"
      ],
      "execution_count": 0,
      "outputs": []
    },
    {
      "cell_type": "code",
      "metadata": {
        "id": "2pTLQXOVBliT",
        "colab_type": "code",
        "colab": {}
      },
      "source": [
        "long_distance_with_low_score=df_long_distance[df_long_distance.low_score==True]\n",
        "long_distance_with_high_score=df_long_distance[df_long_distance.high_score==True]"
      ],
      "execution_count": 0,
      "outputs": []
    },
    {
      "cell_type": "code",
      "metadata": {
        "id": "5tPg-YH0By29",
        "colab_type": "code",
        "colab": {}
      },
      "source": [
        "#checking how many Users drive long distance with low scores are also high scores\n",
        "pd.Series(long_distance_with_low_score.UserID.isin(long_distance_with_high_score.UserID).values.astype(int), long_distance_with_low_score.UserID.values).sum()"
      ],
      "execution_count": 0,
      "outputs": []
    },
    {
      "cell_type": "code",
      "metadata": {
        "id": "-Rvf9HMAB2_t",
        "colab_type": "code",
        "colab": {}
      },
      "source": [
        "#checking how many Users drive long distance with high scores are also low scores\n",
        "pd.Series(long_distance_with_high_score.UserID.isin(long_distance_with_low_score.UserID).values.astype(int), long_distance_with_high_score.UserID.values).sum()"
      ],
      "execution_count": 0,
      "outputs": []
    },
    {
      "cell_type": "code",
      "metadata": {
        "id": "xNZoFm4qB_ga",
        "colab_type": "code",
        "colab": {}
      },
      "source": [
        "df_low_score=df1_sorted_by_date[df1_sorted_by_date['low_score'] == True]\n",
        "df_low_score['DistanceTravelled'].value_counts().sort_values().head(10).plot(kind='barh', figsize=(25,17), color='red')\n",
        "plt.xlabel(\"Counts\", fontsize=30)\n",
        "plt.xticks(fontsize=20)\n",
        "plt.yticks(fontsize=20)\n",
        "plt.ylabel(\"Distance Travelled\", fontsize=30)\n",
        "plt.title(\"Bottom 10 DistanceTravelled Counts with OverallScore<0.5\", fontsize=30)\n",
        "plt.show()"
      ],
      "execution_count": 0,
      "outputs": []
    },
    {
      "cell_type": "code",
      "metadata": {
        "id": "5xNoKJhYfTZm",
        "colab_type": "code",
        "colab": {}
      },
      "source": [
        "df_low_score=df1_sorted_by_date[df1_sorted_by_date['low_score'] == True]\n",
        "df_low_score['DistanceTravelled'].value_counts().sort_values().tail(10).plot(kind='barh', figsize=(25,17))\n",
        "plt.xlabel(\"Counts\", fontsize=30)\n",
        "plt.xticks(fontsize=20)\n",
        "plt.yticks(fontsize=20)\n",
        "plt.ylabel(\"Distance Travelled\", fontsize=30)\n",
        "plt.title(\"Top 10 DistanceTravelled Counts with OverallScore<0.5\", fontsize=30)\n",
        "plt.show()"
      ],
      "execution_count": 0,
      "outputs": []
    },
    {
      "cell_type": "code",
      "metadata": {
        "id": "2BgUzoqVodW9",
        "colab_type": "code",
        "colab": {}
      },
      "source": [
        "df1_sorted_by_date=df1\n",
        "df1_sorted_by_date['RegisteredOn']=pd.to_datetime(df1['RegisteredOn'])\n",
        "df1_sorted_by_date=df1_sorted_by_date.sort_values(by=\"RegisteredOn\")\n",
        "df_d_=df1_sorted_by_date[['RegisteredOn','DistanceTravelled']]\n",
        "df_d_"
      ],
      "execution_count": 0,
      "outputs": []
    },
    {
      "cell_type": "code",
      "metadata": {
        "id": "IuYr7RvAoczi",
        "colab_type": "code",
        "colab": {}
      },
      "source": [
        "df_d_.index = df_d_['RegisteredOn']\n",
        "del df_d_['RegisteredOn']\n",
        "df_d_"
      ],
      "execution_count": 0,
      "outputs": []
    },
    {
      "cell_type": "code",
      "metadata": {
        "id": "ClopRJDefalS",
        "colab_type": "code",
        "colab": {}
      },
      "source": [
        "df_d_.groupby(level=0).mean().plot(figsize=(25,17))\n",
        "plt.ylabel('Avg Distance', fontsize=30)\n",
        "plt.xlabel('RegisteredOn', fontsize=30)\n",
        "plt.title('Daily Average Trip Distance by All Users',fontsize=30)\n",
        "plt.xticks(fontsize=20)\n",
        "plt.yticks(fontsize=20)\n",
        "plt.show()"
      ],
      "execution_count": 0,
      "outputs": []
    },
    {
      "cell_type": "code",
      "metadata": {
        "id": "1XR6XTOrox5b",
        "colab_type": "code",
        "colab": {}
      },
      "source": [
        "df_s_=df1_sorted_by_date[['RegisteredOn','OverallScore']]\n",
        "df_s_.index = df_s_['RegisteredOn']\n",
        "del df_s_['RegisteredOn']\n",
        "df_s_.groupby(level=0).mean().plot(figsize=(25,17))\n",
        "plt.ylabel('Avg Overall Score', fontsize=30)\n",
        "plt.xlabel('RegisteredOn', fontsize=30)\n",
        "plt.xticks(fontsize=20)\n",
        "plt.yticks(fontsize=20)\n",
        "plt.title('Daily Avg OverallScore of All Users', fontsize=30)\n",
        "plt.show()"
      ],
      "execution_count": 0,
      "outputs": []
    }
  ]
}